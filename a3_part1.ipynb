{
 "cells": [
  {
   "cell_type": "markdown",
   "metadata": {},
   "source": [
    "# Network Compression using SVD"
   ]
  },
  {
   "cell_type": "code",
   "execution_count": 14,
   "metadata": {},
   "outputs": [],
   "source": [
    "#Import Required libraries\n",
    "import tensorflow as tf\n",
    "import numpy as np\n",
    "import matplotlib.pyplot as plt"
   ]
  },
  {
   "cell_type": "markdown",
   "metadata": {},
   "source": [
    "Load training data"
   ]
  },
  {
   "cell_type": "code",
   "execution_count": 15,
   "metadata": {},
   "outputs": [
    {
     "name": "stdout",
     "output_type": "stream",
     "text": [
      "Extracting MNIST_data/train-images-idx3-ubyte.gz\n",
      "Extracting MNIST_data/train-labels-idx1-ubyte.gz\n",
      "Extracting MNIST_data/t10k-images-idx3-ubyte.gz\n",
      "Extracting MNIST_data/t10k-labels-idx1-ubyte.gz\n"
     ]
    }
   ],
   "source": [
    "# training data\n",
    "#prepare dataset\n",
    "from tensorflow.examples.tutorials.mnist import input_data\n",
    "mnist = input_data.read_data_sets(\"MNIST_data/\", one_hot=True)\n",
    "trainX, trainY, testX, testY = mnist.train.images, mnist.train.labels, mnist.test.images, mnist.test.labels"
   ]
  },
  {
   "cell_type": "markdown",
   "metadata": {},
   "source": [
    "Network Architecture:\n",
    "\n",
    "5 hidden layers with 1025 units in each."
   ]
  },
  {
   "cell_type": "code",
   "execution_count": 16,
   "metadata": {},
   "outputs": [
    {
     "name": "stdout",
     "output_type": "stream",
     "text": [
      "(?, 1024) \n",
      " (?, 1024) \n",
      " (?, 1024) \n",
      " (?, 1024) \n",
      " (?, 1024) \n",
      " (?, 10) \n",
      "\n",
      "(784, 1024) \n",
      " (1024, 1024) \n",
      " (1024, 1024) \n",
      " (1024, 1024) \n",
      " (1024, 1024) \n",
      " (1024, 10) \n",
      "\n",
      "<tf.Variable 'W1:0' shape=(784, 1024) dtype=float32_ref>\n"
     ]
    }
   ],
   "source": [
    "tf.reset_default_graph()  \n",
    "input_units = 784\n",
    "hidden_units = 1024\n",
    "output_units = 10\n",
    "\n",
    "#input placeholder\n",
    "x = tf.placeholder(tf.float32, [None,784])\n",
    "\n",
    "#hidden layers 1-5\n",
    "w1 = tf.get_variable(\"W1\", shape=[input_units, hidden_units], initializer=tf.initializers.he_normal())\n",
    "b1 = tf.get_variable(\"b1\", shape=[1,hidden_units], initializer=tf.initializers.he_normal())\n",
    "\n",
    "h1 = tf.nn.relu(tf.matmul(x, w1) + b1)\n",
    "\n",
    "w2 = tf.get_variable(\"W2\", shape=[hidden_units, hidden_units], initializer=tf.initializers.he_normal())\n",
    "b2 = tf.get_variable(\"b2\", shape=[1,hidden_units], initializer=tf.initializers.he_normal())\n",
    "\n",
    "h2 = tf.nn.relu(tf.matmul(h1, w2) + b2)\n",
    "\n",
    "w3 = tf.get_variable(\"W3\", shape=[hidden_units, hidden_units], initializer=tf.initializers.he_normal())\n",
    "b3 = tf.get_variable(\"b3\", shape=[1,hidden_units], initializer=tf.initializers.he_normal())\n",
    "\n",
    "h3 = tf.nn.relu(tf.matmul(h2, w3) + b3)\n",
    "\n",
    "w4 = tf.get_variable(\"W4\", shape=[hidden_units, hidden_units], initializer=tf.initializers.he_normal())\n",
    "b4 = tf.get_variable(\"b4\", shape=[1,hidden_units], initializer=tf.initializers.he_normal())\n",
    "\n",
    "h4 = tf.nn.relu(tf.matmul(h3, w4) + b4)\n",
    "\n",
    "w5 = tf.get_variable(\"W5\", shape=[hidden_units, hidden_units], initializer=tf.initializers.he_normal())\n",
    "b5 = tf.get_variable(\"b5\", shape=[1,hidden_units], initializer=tf.initializers.he_normal())\n",
    "\n",
    "h5 = tf.nn.relu(tf.matmul(h4, w5) + b5)\n",
    "\n",
    "w6 = tf.get_variable(\"W6\", shape=[hidden_units, output_units], initializer=tf.initializers.he_normal())\n",
    "b6 = tf.get_variable(\"b6\", shape=[1,output_units], initializer=tf.initializers.he_normal())\n",
    "\n",
    "#output\n",
    "y = tf.matmul(h5, w6) + b6\n",
    "\n",
    "#output placeholder\n",
    "y_ = tf.placeholder(tf.int64, [None,10])\n",
    "print(h1.shape,\"\\n\",h2.shape,\"\\n\",h3.shape,\"\\n\",h4.shape,\"\\n\",h5.shape,\"\\n\",y.shape,\"\\n\")\n",
    "print(w1.shape,\"\\n\",w2.shape,\"\\n\",w3.shape,\"\\n\",w4.shape,\"\\n\",w5.shape,\"\\n\",w6.shape,\"\\n\")\n",
    "print(w1)"
   ]
  },
  {
   "cell_type": "markdown",
   "metadata": {},
   "source": [
    "Loss used for the network is softmax cross entropy. Optimizer is Adam with learning rate of 0.001 and trained over 200 epochs or 98% accuracy, whichever occurs first."
   ]
  },
  {
   "cell_type": "code",
   "execution_count": 17,
   "metadata": {},
   "outputs": [],
   "source": [
    "# Define loss and optimizer\n",
    "\n",
    "cross_entropy = tf.losses.softmax_cross_entropy(onehot_labels=y_, logits=y)\n",
    "train_step = tf.train.AdamOptimizer(0.001).minimize(cross_entropy)\n",
    "loss_log = []\n",
    "\n",
    "#intialize tensorflow global variables\n",
    "init = tf.global_variables_initializer()\n",
    "\n",
    "#number of epochs, breaks when accuracy reaches 98\n",
    "epochs=200"
   ]
  },
  {
   "cell_type": "markdown",
   "metadata": {},
   "source": [
    "Run the network to achieve 98% accuracy."
   ]
  },
  {
   "cell_type": "code",
   "execution_count": 18,
   "metadata": {},
   "outputs": [
    {
     "name": "stdout",
     "output_type": "stream",
     "text": [
      "Epoch: 1\n",
      "accucracy is 90.00999927520752\n",
      "Loss: 0.22595309\n",
      "Epoch: 2\n",
      "accucracy is 92.6800012588501\n",
      "Loss: 0.15739328\n",
      "Epoch: 3\n",
      "accucracy is 93.72000098228455\n",
      "Loss: 0.22399208\n",
      "Epoch: 4\n",
      "accucracy is 95.3000009059906\n",
      "Loss: 0.17944138\n",
      "Epoch: 5\n",
      "accucracy is 95.26000022888184\n",
      "Loss: 0.05124802\n",
      "Epoch: 6\n",
      "accucracy is 95.44000029563904\n",
      "Loss: 0.08696851\n",
      "Epoch: 7\n",
      "accucracy is 95.92999815940857\n",
      "Loss: 0.066148855\n",
      "Epoch: 8\n",
      "accucracy is 96.50999903678894\n",
      "Loss: 0.09461052\n",
      "Epoch: 9\n",
      "accucracy is 96.75999879837036\n",
      "Loss: 0.077253826\n",
      "Epoch: 10\n",
      "accucracy is 96.99000120162964\n",
      "Loss: 0.067374304\n",
      "Epoch: 11\n",
      "accucracy is 97.079998254776\n",
      "Loss: 0.13215718\n",
      "Epoch: 12\n",
      "accucracy is 97.04999923706055\n",
      "Loss: 0.028826457\n",
      "Epoch: 13\n",
      "accucracy is 96.92000150680542\n",
      "Loss: 0.06229269\n",
      "Epoch: 14\n",
      "accucracy is 97.22999930381775\n",
      "Loss: 0.10672052\n",
      "Epoch: 15\n",
      "accucracy is 96.34000062942505\n",
      "Loss: 0.05290363\n",
      "Epoch: 16\n",
      "accucracy is 96.70000076293945\n",
      "Loss: 0.021453135\n",
      "Epoch: 17\n",
      "accucracy is 97.4399983882904\n",
      "Loss: 0.031099897\n",
      "Epoch: 18\n",
      "accucracy is 96.61999940872192\n",
      "Loss: 0.11563498\n",
      "Epoch: 19\n",
      "accucracy is 97.36999869346619\n",
      "Loss: 0.062069837\n",
      "Epoch: 20\n",
      "accucracy is 96.81000113487244\n",
      "Loss: 0.039467838\n",
      "Epoch: 21\n",
      "accucracy is 97.3800003528595\n",
      "Loss: 0.029903395\n",
      "Epoch: 22\n",
      "accucracy is 97.33999967575073\n",
      "Loss: 0.039017025\n",
      "Epoch: 23\n",
      "accucracy is 96.82999849319458\n",
      "Loss: 0.081273034\n",
      "Epoch: 24\n",
      "accucracy is 97.2100019454956\n",
      "Loss: 0.03674303\n",
      "Epoch: 25\n",
      "accucracy is 97.10000157356262\n",
      "Loss: 0.032626934\n",
      "Epoch: 26\n",
      "accucracy is 97.75999784469604\n",
      "Loss: 0.009252205\n",
      "Epoch: 27\n",
      "accucracy is 97.28000164031982\n",
      "Loss: 0.0760306\n",
      "Epoch: 28\n",
      "accucracy is 97.85000085830688\n",
      "Loss: 0.02938898\n",
      "Epoch: 29\n",
      "accucracy is 97.18000292778015\n",
      "Loss: 0.025104567\n",
      "Epoch: 30\n",
      "accucracy is 97.71999716758728\n",
      "Loss: 0.0040466036\n",
      "Epoch: 31\n",
      "accucracy is 97.2100019454956\n",
      "Loss: 0.035367645\n",
      "Epoch: 32\n",
      "accucracy is 97.75000214576721\n",
      "Loss: 0.099022046\n",
      "Epoch: 33\n",
      "accucracy is 97.50000238418579\n",
      "Loss: 0.19254464\n",
      "Epoch: 34\n",
      "accucracy is 97.42000102996826\n",
      "Loss: 0.009722525\n",
      "Epoch: 35\n",
      "accucracy is 97.79999852180481\n",
      "Loss: 0.031946514\n",
      "Epoch: 36\n",
      "accucracy is 97.60000109672546\n",
      "Loss: 0.032956604\n",
      "Epoch: 37\n",
      "accucracy is 97.83999919891357\n",
      "Loss: 0.03732387\n",
      "Epoch: 38\n",
      "accucracy is 97.42000102996826\n",
      "Loss: 0.03256196\n",
      "Epoch: 39\n",
      "accucracy is 97.69999980926514\n",
      "Loss: 0.06860974\n",
      "Epoch: 40\n",
      "accucracy is 97.72999882698059\n",
      "Loss: 0.0025842136\n",
      "Epoch: 41\n",
      "accucracy is 97.89000153541565\n",
      "Loss: 0.008177463\n",
      "Epoch: 42\n",
      "accucracy is 98.15000295639038\n",
      "Loss: 0.0035329931\n"
     ]
    }
   ],
   "source": [
    "sess_a3_0 = tf.Session()\n",
    "sess_a3_0.run(init)\n",
    "loss_log=[]\n",
    "#batch size\n",
    "batches=int(len(mnist.train.labels)/550)\n",
    "epoch_plot=[]\n",
    "#train model\n",
    "for epoch in range(epochs):\n",
    "    epoch_plot.append(epoch+1)\n",
    "    for _ in range(batches):\n",
    "        batch_xs, batch_ys = mnist.train.next_batch(100)\n",
    "        loss,_ = sess_a3_0.run([cross_entropy,train_step], feed_dict={x: batch_xs, y_: batch_ys})\n",
    "    loss_log.append(loss)\n",
    "    correct_prediction = tf.equal(tf.argmax(y, 1),tf.argmax(y_,1))\n",
    "    accuracy = tf.reduce_mean(tf.cast(correct_prediction, tf.float32))\n",
    "    accuracy_result = sess_a3_0.run(accuracy, feed_dict={x: mnist.test.images,y_: mnist.test.labels})\n",
    "    print(\"Epoch:\",epoch + 1)\n",
    "    print(\"accucracy is\",accuracy_result*100)\n",
    "    print(\"Loss:\",loss)\n",
    "    if accuracy_result*100>98:\n",
    "        break\n",
    "    \n",
    "# # Test trained model on training dataset  \n",
    "# correct_prediction = tf.equal(tf.argmax(y, 1),tf.argmax(y_,1))\n",
    "# accuracy = tf.reduce_mean(tf.cast(correct_prediction, tf.float32))\n",
    "# accuracy_result = sess_a3_1.run(accuracy, feed_dict={x: mnist.test.images,y_: mnist.test.labels})\n",
    "# print(\"accucracy is\",accuracy_result*100)\n",
    "#sess_a3_1.close()"
   ]
  },
  {
   "cell_type": "markdown",
   "metadata": {},
   "source": [
    "Calculate SVD on weights of layer 1-5 using tf.svd()"
   ]
  },
  {
   "cell_type": "code",
   "execution_count": 19,
   "metadata": {},
   "outputs": [
    {
     "name": "stdout",
     "output_type": "stream",
     "text": [
      "(784,) (784, 784) (1024, 784)\n"
     ]
    }
   ],
   "source": [
    "s1, u1, v1 = sess_a3_0.run(tf.svd(w1))\n",
    "s2, u2, v2 = sess_a3_0.run(tf.svd(w2))\n",
    "s3, u3, v3 = sess_a3_0.run(tf.svd(w3))\n",
    "s4, u4, v4 = sess_a3_0.run(tf.svd(w4))\n",
    "s5, u5, v5 = sess_a3_0.run(tf.svd(w5))\n",
    "print(s1.shape,u1.shape,v1.shape)"
   ]
  },
  {
   "cell_type": "markdown",
   "metadata": {},
   "source": [
    "Saving weight of output layer and biases of all layers to be used in the second neural net."
   ]
  },
  {
   "cell_type": "code",
   "execution_count": 20,
   "metadata": {},
   "outputs": [],
   "source": [
    "w6_orig = sess_a3_0.run(w6)\n",
    "b1_orig = sess_a3_0.run(b1)\n",
    "b2_orig = sess_a3_0.run(b2)\n",
    "b3_orig = sess_a3_0.run(b3)\n",
    "b4_orig = sess_a3_0.run(b4)\n",
    "b5_orig = sess_a3_0.run(b5)\n",
    "b6_orig = sess_a3_0.run(b6)"
   ]
  },
  {
   "cell_type": "markdown",
   "metadata": {},
   "source": [
    "# 1.5\n",
    "\n",
    "Calculating accuracy of the model with varying sizes from 10...784"
   ]
  },
  {
   "cell_type": "code",
   "execution_count": 21,
   "metadata": {
    "scrolled": true
   },
   "outputs": [
    {
     "name": "stdout",
     "output_type": "stream",
     "text": [
      "[0.4076, 0.8475, 0.9758, 0.9785, 0.9805, 0.9818]\n"
     ]
    }
   ],
   "source": [
    "D = [10,20,50,100,200,784]\n",
    "acc=[]\n",
    "for i in D:\n",
    "    w1_1 = tf.matmul(tf.multiply(s1[:i,], u1[:,:i]),tf.transpose(v1[:,:i]))\n",
    "\n",
    "    h1_1 = tf.nn.relu(tf.matmul(x, w1_1) + b1)\n",
    "\n",
    "    w2_1 = tf.matmul(tf.multiply(s2[:i,], u2[:,:i]),tf.transpose(v2[:,:i]))\n",
    "\n",
    "    h2_1 = tf.nn.relu(tf.matmul(h1_1, w2_1) + b2)\n",
    "\n",
    "    w3_1 = tf.matmul(tf.multiply(s3[:i,], u3[:,:i]),tf.transpose(v3[:,:i]))\n",
    "\n",
    "    h3_1 = tf.nn.relu(tf.matmul(h2_1, w3_1) + b3)\n",
    "\n",
    "    w4_1 = tf.matmul(tf.multiply(s4[:i,], u4[:,:i]),tf.transpose(v4[:,:i]))\n",
    "\n",
    "    h4_1 = tf.nn.relu(tf.matmul(h3_1, w4_1) + b4)\n",
    "\n",
    "    w5_1 = tf.matmul(tf.multiply(s5[:i,], u5[:,:i]),tf.transpose(v5[:,:i]))\n",
    "\n",
    "    h5_1 = tf.nn.relu(tf.matmul(h4_1, w5_1) + b5)\n",
    "\n",
    "    y1 = tf.matmul(h5_1, w6_orig) + b6_orig\n",
    "    correct_prediction1 = tf.equal(tf.argmax(y1, 1),tf.argmax(y_,1))\n",
    "    accuracy1 = tf.reduce_mean(tf.cast(correct_prediction1, tf.float32))\n",
    "\n",
    "    acc.append(sess_a3_0.run(accuracy1, feed_dict={x: mnist.test.images,y_: mnist.test.labels}))\n",
    "    #print(\"D:\",i,acc)\n",
    "print(acc)"
   ]
  },
  {
   "cell_type": "markdown",
   "metadata": {},
   "source": [
    "Plot the graph of D vs Accuracy"
   ]
  },
  {
   "cell_type": "code",
   "execution_count": 22,
   "metadata": {},
   "outputs": [
    {
     "data": {
      "text/plain": [
       "Text(0, 0.5, 'Accuracy')"
      ]
     },
     "execution_count": 22,
     "metadata": {},
     "output_type": "execute_result"
    },
    {
     "data": {
      "image/png": "[encoded data removed]",
      "text/plain": [
       "<Figure size 432x288 with 1 Axes>"
      ]
     },
     "metadata": {
      "needs_background": "light"
     },
     "output_type": "display_data"
    }
   ],
   "source": [
    "plt.plot(D,acc)\n",
    "plt.xlabel('Size of D')\n",
    "plt.ylabel('Accuracy')"
   ]
  },
  {
   "cell_type": "markdown",
   "metadata": {},
   "source": [
    "Close the first session."
   ]
  },
  {
   "cell_type": "code",
   "execution_count": 23,
   "metadata": {},
   "outputs": [],
   "source": [
    "sess_a3_0.close()"
   ]
  },
  {
   "cell_type": "markdown",
   "metadata": {},
   "source": [
    "# 1.6 Part a)\n",
    "\n",
    "Setup second network using weights acquired from SVD and D=20.\n",
    "\n",
    "Hidden layers 1-5 using weights from SVD and bias learned from the first network.\n",
    "\n",
    "The output layers uses weights and biases from the first network.\n",
    "\n",
    "Since the weights are already initialized with the learnt weights from the first network, the accuracy starts off at 96% and reaches ~97% because of D=20. "
   ]
  },
  {
   "cell_type": "code",
   "execution_count": 24,
   "metadata": {},
   "outputs": [
    {
     "name": "stdout",
     "output_type": "stream",
     "text": [
      "Epoch:  0\n",
      "accucracy is 96.35999798774719\n",
      "Loss: 0.13106595\n",
      "Epoch:  1\n",
      "accucracy is 96.78999781608582\n",
      "Loss: 0.07071133\n",
      "Epoch:  2\n",
      "accucracy is 96.88000082969666\n",
      "Loss: 0.06326151\n",
      "Epoch:  3\n",
      "accucracy is 96.97999954223633\n",
      "Loss: 0.113481544\n",
      "Epoch:  4\n",
      "accucracy is 97.26999998092651\n",
      "Loss: 0.14831045\n",
      "Epoch:  5\n",
      "accucracy is 97.11999893188477\n",
      "Loss: 0.09478518\n",
      "Epoch:  6\n",
      "accucracy is 97.07000255584717\n",
      "Loss: 0.17179197\n",
      "Epoch:  7\n",
      "accucracy is 97.18000292778015\n",
      "Loss: 0.011497281\n",
      "Epoch:  8\n",
      "accucracy is 97.26999998092651\n",
      "Loss: 0.11837897\n",
      "Epoch:  9\n",
      "accucracy is 97.2100019454956\n",
      "Loss: 0.0877135\n",
      "Epoch:  10\n",
      "accucracy is 97.32000231742859\n",
      "Loss: 0.062031258\n",
      "Epoch:  11\n",
      "accucracy is 97.24000096321106\n",
      "Loss: 0.13074447\n",
      "Epoch:  12\n",
      "accucracy is 97.29999899864197\n",
      "Loss: 0.12794489\n",
      "Epoch:  13\n",
      "accucracy is 97.3800003528595\n",
      "Loss: 0.026732272\n",
      "Epoch:  14\n",
      "accucracy is 97.35999703407288\n",
      "Loss: 0.08853692\n",
      "Epoch:  15\n",
      "accucracy is 97.32999801635742\n",
      "Loss: 0.05002929\n",
      "Epoch:  16\n",
      "accucracy is 97.3800003528595\n",
      "Loss: 0.06619106\n",
      "Epoch:  17\n",
      "accucracy is 97.39999771118164\n",
      "Loss: 0.027910167\n",
      "Epoch:  18\n",
      "accucracy is 97.36999869346619\n",
      "Loss: 0.043866716\n",
      "Epoch:  19\n",
      "accucracy is 97.50999808311462\n",
      "Loss: 0.038907003\n",
      "Epoch:  20\n",
      "accucracy is 97.36999869346619\n",
      "Loss: 0.026386142\n",
      "Epoch:  21\n",
      "accucracy is 97.51999974250793\n",
      "Loss: 0.03384667\n",
      "Epoch:  22\n",
      "accucracy is 97.57000207901001\n",
      "Loss: 0.05315028\n",
      "Epoch:  23\n",
      "accucracy is 97.63000011444092\n",
      "Loss: 0.026709303\n",
      "Epoch:  24\n",
      "accucracy is 97.5600004196167\n",
      "Loss: 0.055364836\n",
      "Epoch:  25\n",
      "accucracy is 97.42000102996826\n",
      "Loss: 0.12870374\n",
      "Epoch:  26\n",
      "accucracy is 97.60000109672546\n",
      "Loss: 0.02459458\n",
      "Epoch:  27\n",
      "accucracy is 97.39000201225281\n",
      "Loss: 0.042608514\n",
      "Epoch:  28\n",
      "accucracy is 97.7400004863739\n",
      "Loss: 0.033615626\n",
      "Epoch:  29\n",
      "accucracy is 97.45000004768372\n",
      "Loss: 0.007466965\n",
      "Epoch:  30\n",
      "accucracy is 97.61999845504761\n",
      "Loss: 0.097750455\n",
      "Epoch:  31\n",
      "accucracy is 97.57000207901001\n",
      "Loss: 0.015917916\n",
      "Epoch:  32\n",
      "accucracy is 97.65999913215637\n",
      "Loss: 0.029762302\n",
      "Epoch:  33\n",
      "accucracy is 97.68999814987183\n",
      "Loss: 0.05844574\n",
      "Epoch:  34\n",
      "accucracy is 97.71999716758728\n",
      "Loss: 0.030289257\n",
      "Epoch:  35\n",
      "accucracy is 97.65999913215637\n",
      "Loss: 0.02010381\n",
      "Epoch:  36\n",
      "accucracy is 97.63000011444092\n",
      "Loss: 0.008854239\n",
      "Epoch:  37\n",
      "accucracy is 97.71000146865845\n",
      "Loss: 0.037754454\n",
      "Epoch:  38\n",
      "accucracy is 97.57999777793884\n",
      "Loss: 0.043549493\n",
      "Epoch:  39\n",
      "accucracy is 97.69999980926514\n",
      "Loss: 0.0769767\n",
      "Epoch:  40\n",
      "accucracy is 97.53000140190125\n",
      "Loss: 0.045526687\n",
      "Epoch:  41\n",
      "accucracy is 97.71000146865845\n",
      "Loss: 0.022651114\n",
      "Epoch:  42\n",
      "accucracy is 97.83999919891357\n",
      "Loss: 0.018806813\n",
      "Epoch:  43\n",
      "accucracy is 97.86999821662903\n",
      "Loss: 0.026063979\n",
      "Epoch:  44\n",
      "accucracy is 97.67000079154968\n",
      "Loss: 0.028657284\n",
      "Epoch:  45\n",
      "accucracy is 97.78000116348267\n",
      "Loss: 0.02640372\n",
      "Epoch:  46\n",
      "accucracy is 97.680002450943\n",
      "Loss: 0.02567407\n",
      "Epoch:  47\n",
      "accucracy is 97.53000140190125\n",
      "Loss: 0.06610858\n",
      "Epoch:  48\n",
      "accucracy is 97.79000282287598\n",
      "Loss: 0.054580588\n",
      "Epoch:  49\n",
      "accucracy is 97.79000282287598\n",
      "Loss: 0.0068250964\n"
     ]
    }
   ],
   "source": [
    "tf.reset_default_graph()  \n",
    "\n",
    "#input placeholder\n",
    "x = tf.placeholder(tf.float32, [None,784])\n",
    "\n",
    "#layer 1\n",
    "u1_1 = tf.Variable(u1[:,:20])\n",
    "v_hat1 = tf.Variable(tf.multiply(s1[:20], v1[:,:20])) \n",
    "h1_2 = tf.nn.relu(tf.matmul(x, tf.matmul(u1_1,tf.transpose(v_hat1))) + b1_orig)\n",
    "\n",
    "#layer 2\n",
    "u2_1 = tf.Variable(u2[:,:20])\n",
    "v_hat2 = tf.Variable(tf.multiply(s2[:20], v2[:,:20]))\n",
    "h2_2 = tf.nn.relu(tf.matmul(h1_2, tf.matmul(u2_1,tf.transpose(v_hat2))) + b2_orig)\n",
    "\n",
    "#layer 3\n",
    "u3_1 = tf.Variable(u3[:,:20])\n",
    "v_hat3 = tf.Variable(tf.multiply(s3[:20], v3[:,:20])) \n",
    "h3_2 = tf.nn.relu(tf.matmul(h2_2, tf.matmul(u3_1,tf.transpose(v_hat3))) + b3_orig)\n",
    "\n",
    "#layer 4\n",
    "u4_1 = tf.Variable(u4[:,:20])\n",
    "v_hat4 = tf.Variable(tf.multiply(s4[:20], v4[:,:20])) \n",
    "h4_2 = tf.nn.relu(tf.matmul(h3_2, tf.matmul(u4_1,tf.transpose(v_hat4))) + b4_orig)\n",
    "\n",
    "#layer 5\n",
    "u5_1 = tf.Variable(u5[:,:20])\n",
    "v_hat5 = tf.Variable(tf.multiply(s5[:20], v5[:,:20])) \n",
    "h5_2 = tf.nn.relu(tf.matmul(h4_2, tf.matmul(u5_1,tf.transpose(v_hat5))) + b5_orig)\n",
    "\n",
    "#output layer \n",
    "y = tf.matmul(h5_2, w6_orig) + b6_orig\n",
    "y_ = tf.placeholder(tf.int64, [None,10])\n",
    "\n",
    "\n",
    "# Define loss and optimizer\n",
    "cross_entropy = tf.losses.softmax_cross_entropy(onehot_labels=y_, logits=y)\n",
    "train_step = tf.train.AdamOptimizer(0.0001).minimize(cross_entropy)\n",
    "loss_log = []\n",
    "\n",
    "#intialize tensorflow global variables\n",
    "init = tf.global_variables_initializer()\n",
    "\n",
    "#number of epochs, breaks when accuracy reaches 98\n",
    "epochs=50\n",
    "\n",
    "#run new network\n",
    "sess_a3_1 = tf.Session()\n",
    "sess_a3_1.run(init)\n",
    "\n",
    "\n",
    "#batch size\n",
    "batches=int(len(mnist.train.labels)/1000)\n",
    "epoch_plot=[]\n",
    "#train model\n",
    "for epoch in range(epochs):\n",
    "    epoch_plot.append(epoch)\n",
    "    print(\"Epoch: \",epoch)\n",
    "    for _ in range(batches):\n",
    "        batch_xs, batch_ys = mnist.train.next_batch(100)\n",
    "        loss,_ = sess_a3_1.run([cross_entropy,train_step], feed_dict={x: batch_xs, y_: batch_ys})\n",
    "    loss_log.append(loss)\n",
    "    correct_prediction = tf.equal(tf.argmax(y, 1),tf.argmax(y_,1))\n",
    "    accuracy = tf.reduce_mean(tf.cast(correct_prediction, tf.float32))\n",
    "    accuracy_result = sess_a3_1.run(accuracy, feed_dict={x: mnist.test.images,y_: mnist.test.labels})\n",
    "    print(\"accucracy is\",accuracy_result*100)\n",
    "    print(\"Loss:\",loss)"
   ]
  },
  {
   "cell_type": "markdown",
   "metadata": {},
   "source": [
    "Close second session."
   ]
  },
  {
   "cell_type": "code",
   "execution_count": 25,
   "metadata": {},
   "outputs": [],
   "source": [
    "sess_a3_1.close()"
   ]
  }
 ],
 "metadata": {
  "kernelspec": {
   "display_name": "Python 3",
   "language": "python",
   "name": "python3"
  },
  "language_info": {
   "codemirror_mode": {
    "name": "ipython",
    "version": 3
   },
   "file_extension": ".py",
   "mimetype": "text/x-python",
   "name": "python",
   "nbconvert_exporter": "python",
   "pygments_lexer": "ipython3",
   "version": "3.7.3"
  }
 },
 "nbformat": 4,
 "nbformat_minor": 2
}
